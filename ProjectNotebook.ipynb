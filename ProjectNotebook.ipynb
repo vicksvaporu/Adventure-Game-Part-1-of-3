{
 "cells": [
  {
   "cell_type": "markdown",
   "metadata": {},
   "source": [
    "# Adventure Game\n",
    "\n",
    "\n",
    "This is a choice adventure game. Currently, it remains unfinished. This is only one part of three.\n",
    "\n",
    "There are two times the story branches in different directions but in the end, it converges to one path. I ended it there because I do want to continue working on the story and the code at a later date. I originally made the story too long for this project.\n",
    "\n",
    "\n",
    "Run the following code to play the game. To restart, restart the kernel.\n",
    "\n",
    "\n",
    "The details of the story are given to th player as they play along. After some story development, the player is allowed to input one of two choices. That choice propels the story forward or ends the player character life. \n"
   ]
  },
  {
   "cell_type": "code",
   "execution_count": null,
   "metadata": {},
   "outputs": [],
   "source": [
    "import my_script"
   ]
  },
  {
   "cell_type": "code",
   "execution_count": null,
   "metadata": {},
   "outputs": [],
   "source": []
  }
 ],
 "metadata": {
  "kernelspec": {
   "display_name": "Python 3",
   "language": "python",
   "name": "python3"
  },
  "language_info": {
   "codemirror_mode": {
    "name": "ipython",
    "version": 3
   },
   "file_extension": ".py",
   "mimetype": "text/x-python",
   "name": "python",
   "nbconvert_exporter": "python",
   "pygments_lexer": "ipython3",
   "version": "3.6.7"
  }
 },
 "nbformat": 4,
 "nbformat_minor": 2
}
